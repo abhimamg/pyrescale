{
 "cells": [
  {
   "cell_type": "code",
   "execution_count": 3,
   "metadata": {},
   "outputs": [
    {
     "name": "stdout",
     "output_type": "stream",
     "text": [
      "The autoreload extension is already loaded. To reload it, use:\n",
      "  %reload_ext autoreload\n"
     ]
    }
   ],
   "source": [
    "%load_ext autoreload\n",
    "%autoreload 2\n",
    "\n",
    "from rescaleapi import Hardware, Job, Abaqus, File\n"
   ]
  },
  {
   "cell_type": "code",
   "execution_count": 21,
   "metadata": {},
   "outputs": [],
   "source": [
    "# api_key_path = Path(r\"C:\\Users\\amamgain\\OneDrive - Digicorner\\0_OneDrive\\2_notes\\connections.toml\")\n",
    "# api_key = tomllib.loads(api_key_path.read_text())[\"apikeys\"][\"rescale\"]\n",
    "# set_api_key(api_key)"
   ]
  },
  {
   "cell_type": "code",
   "execution_count": 4,
   "metadata": {},
   "outputs": [],
   "source": [
    "inputfiles = [File().load_from_id(\"zNXApj\"), File(\"files.zip\")]\n",
    "# Add hardware specifications\n",
    "hardware = Hardware(coresPerSlot=1, slots=1, coreType=\"emerald_max\")\n",
    "\n",
    "# Add Software\n",
    "abaqus = Abaqus(version = \"2022-2328\", inputfiles=inputfiles, command=\"abaqus j=job1.inp interactive\")\n",
    "\n",
    "# Create the job with a name\n",
    "job = Job(\"Demo Example\",  hardware = hardware, analyses=[abaqus])\n",
    "\n",
    "job.create()\n",
    "# Submit the job\n",
    "job.submit()"
   ]
  },
  {
   "cell_type": "code",
   "execution_count": 5,
   "metadata": {},
   "outputs": [
    {
     "data": {
      "text/plain": [
       "'2024-hf4'"
      ]
     },
     "execution_count": 5,
     "metadata": {},
     "output_type": "execute_result"
    }
   ],
   "source": [
    "Abaqus.get_version_code(\"2024 HF4 (FlexNet Licensing)\")"
   ]
  },
  {
   "cell_type": "code",
   "execution_count": 7,
   "metadata": {},
   "outputs": [
    {
     "data": {
      "text/plain": [
       "Abaqus(code=None, version='2022-2328', command='# interactive', inputfiles=[File(path=None, id='zNXApj')], lic='27101@SV10266')"
      ]
     },
     "execution_count": 7,
     "metadata": {},
     "output_type": "execute_result"
    }
   ],
   "source": [
    "Abaqus(version = \"2022-2328\", command = \"# interactive\", inputfiles=files)\n"
   ]
  }
 ],
 "metadata": {
  "kernelspec": {
   "display_name": ".venv",
   "language": "python",
   "name": "python3"
  },
  "language_info": {
   "codemirror_mode": {
    "name": "ipython",
    "version": 3
   },
   "file_extension": ".py",
   "mimetype": "text/x-python",
   "name": "python",
   "nbconvert_exporter": "python",
   "pygments_lexer": "ipython3",
   "version": "3.13.0"
  }
 },
 "nbformat": 4,
 "nbformat_minor": 2
}
